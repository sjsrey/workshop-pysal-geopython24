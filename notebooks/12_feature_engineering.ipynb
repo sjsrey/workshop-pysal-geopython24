{
 "cells": [
  {
   "cell_type": "code",
   "execution_count": null,
   "id": "floating-stadium",
   "metadata": {
    "tags": [
     "remove-cell"
    ]
   },
   "outputs": [],
   "source": [
    "import warnings\n",
    "from myst_nb import glue\n",
    "\n",
    "warnings.filterwarnings(\"ignore\")"
   ]
  },
  {
   "cell_type": "markdown",
   "id": "broke-sword",
   "metadata": {},
   "source": [
    "# Spatial Feature Engineering"
   ]
  },
  {
   "cell_type": "markdown",
   "id": "featured-jersey",
   "metadata": {},
   "source": [
    "In machine learning and data science, we are often equipped with *tons* of data. Indeed, given the constellation of packages to query data services, free and open source data-sets, and the rapid and persistent collection of geographical data, there is simply too much data to even represent coherently in a single, tidy fashion. However, we often need to be able to construct useful *features* from this rich and deep sea of data. \n",
    "\n",
    "Where data is available, but not yet directly *usable*, *feature engineering* helps to construct representations or transformations of the original data that are more useful for modeling a given phenomenon of interest. In traditional machine learning, feature engineering involves applying additional *domain knowledge* to raw information in order to structure it in a manner that is meaningful for a model. Often, this involves some sort of *transformation* of the original dataset, which is a well-studied concept in both classical statistics and remains so in machine learning methods. While *feature engineering* always relies on this implicit domain knowledge, it is an extremely important part of adapting general-purpose algorithms to unique or distinctive problems facing the every-day data scientist. \n",
    "\n",
    "Geography is one of the most high-quality, ubiquitous ways to introduce *domain knowledge* into a problem: everything has a position in both *space* and *time*. And, while things that happen near one another *in time* do not necessarily have a fundamental relationship, things that are *near* one another are often related. Thus, space is the ultimate *linkage key*, allowing us to connect different datasets together in order to improve our models and our predictions. This means that, even for *aspatial*, \"non-geographic\" data, you can use *spatial feature engineering* to create useful, highly relevant features for your analysis. \n",
    "\n",
    "At its core, *spatial feature engineering* is the process of developing additional information from raw data using *geographic knowledge*. This distilling of information can occur *between* datasets, where geography is used to link information in separate datasets together; or *within* datasets, where geography can be used to augment the information available for one sample by borrowing from nearby ones. This chapter is structured following that distinction: for cases where geography connects *different* datasets, we adopt the term \"Map Matching\", often used in industry; while we use the mirroring concept of \"Map Synthesis\" describing the use of geographical structure to derive new features from a given dataset. Technically speaking, some of the methods we review are similar across these two cases, or even the same; however, they can be applied in the context of \"matching\" or \"synthesis\", and we consider those conceptually different, hence their inclusion in both sections. Throughout the chapter, we use the Airbnb nightly rental prices in San Diego, as well as auxiliary datasets such as elevation or census demographics."
   ]
  },
  {
   "cell_type": "code",
   "execution_count": null,
   "id": "opponent-marriage",
   "metadata": {},
   "outputs": [],
   "source": [
    "import geopandas, pandas, libpysal.weights as weights, contextily\n",
    "import matplotlib.pyplot as plt\n",
    "import numpy\n",
    "import cenpy\n",
    "import osmnx\n",
    "import seaborn\n",
    "import rasterio\n",
    "from rasterio.plot import show as rioshow"
   ]
  },
  {
   "cell_type": "code",
   "execution_count": null,
   "id": "dependent-diary",
   "metadata": {
    "tags": [
     "remove-cell"
    ]
   },
   "outputs": [],
   "source": [
    "osmnx.config(\n",
    "    overpass_settings='[out:json][timeout:90][date:\"2021-10-07T00:00:00Z\"]'\n",
    ")"
   ]
  },
  {
   "cell_type": "markdown",
   "id": "derived-insider",
   "metadata": {},
   "source": [
    "Throughout this chapter, we will use the same dataset to which we want to append more information or augment, and we will do so through leveraging geography. For the illustration, we will use the set of [Airbnb properties](../data/airbnb/regression_cleaning) we have used in [Chapter 11](11_regression). Let's read it:"
   ]
  },
  {
   "cell_type": "code",
   "execution_count": null,
   "id": "inner-original",
   "metadata": {},
   "outputs": [],
   "source": [
    "airbnbs = geopandas.read_file(\"../data/airbnb/regression_db.geojson\")"
   ]
  },
  {
   "cell_type": "markdown",
   "id": "cheap-motion",
   "metadata": {},
   "source": [
    "## What is spatial feature engineering? \n",
    "\n",
    "At its core, *spatial feature engineering* is the process of developing additional information from raw data using *geographic knowledge*. This synthesis could occur *between* datasets, where geography is used to link samples in separate datasets together; or *within* datasets, where geography can be used to borrow information from nearby samples. Building linkages *between* datasets is often called \"Map Matching\", while we use the term \"Map Synthesis\" to describe the use of geographical structure to derive new features from existing data. We will cover both kinds of feature engineering.\n",
    "\n",
    "To help us discuss this, a vocabulary is helpful. We will cover a few different kinds of features in this chapter. All of them can be constructed using either Map Synthesis or Map Matching operations: \n",
    "- A *spatial summary feature* measures the attributes of observations that have some pre-specified spatial relationship with our target observations. This includes:\n",
    "    - Taking the average or median value of features within a neighborhood of each target observation. \n",
    "    - The *spatial lag*, used in previous chapters of this book, e.g., Chapters [3](03_spatial_data), [6](06_spatial_autocorrelation), and [11](11_regression), is a kind of spatial summary feature, since it reflects the average value of the data in the neighborhood around each point. \n",
    "    - Other kinds of spatial summary features might include the count of observations within a given distance or the standard deviation of ten nearest observations. \n",
    "    - Summary features generally include *interpolated features* which involve a transfer of information from one spatial support to another, such as when the target locations are not the same as the locations in our ancillary data. Interpolated features become significantly more complex as well when the data is *areal*, as will be discussed later in this chapter.\n",
    "- A *proximity feature* measures the distance from a target observation to some other observation or position in the map. This might be done in a map matching context, as we did before with the distance to Balboa Park in [Chapter 11](11_regression), or it might be done in a map synthesis context by measuring the distance to the nearest other observation. \n",
    "\n",
    "## Feature engineering using map matching\n",
    "\n",
    "Space is the ultimate linkage key; map matching is all about exploiting this asset. Geographic information is collected at different scales, aggregated using bespoke geographic delineations, and ultimately stored in different datasets. Modeling and machine learning usually require the use of data aligned and coherently structured; to bring disparate geo-datasets together, the data scientist needs to be able to transfer information expressed for one geography into another. This is where map matching comes to the rescue. By using geographical location, we can connect datasets that have no common key or that are otherwise completely unrelated. This is a \"magic trick\" that we can pull off because of location that would be much harder, or impossible, with data lacking spatial information.\n",
    "\n",
    "The details, and difficulty, of this transfer of information from one geography to another one depend on the nature of the \"source\" and \"target\", and on the precision with which we want to perform such transfer. In this context, there is always an inevitable trade-off between precision and sophistication: more precise transfer is usually possible at the expense of more advanced and involved techniques. Their additional cost in applying them, both in terms of cognitive load on the data scientist's part or in terms of computation, must be weighted in on an individual basis: sometimes we need the best possible estimates, at all costs; sometimes \"good enough\" is, well, good enough. \n",
    "\n",
    "In this section, we cover a few cases that we consider represent the most common and widely used approaches. We begin with situations where we have two point datasets and all we need to calculate are descriptive statistics of one dataset to the observations in the other. We switch the type of data and consider how to attach information from a continuous grid, stored in a raster file, to a set of points. Then we show the equivalent case for \"moving\" information for a polygon geography to a point dataset. These are all cases that, in their simplest form, involve mostly traditional GIS operations (e.g., buffer construction, spatial joins) and little in the way of statistical modeling. As an example of a case that is more involved, we cover the transfer of information from a set of points to another set of points in different locations, and of a polygon geography to another different polygon geography. For these final cases, but also more generally, we try to include examples that capture the essence of the method but keep the technique as simple as possible. For almost any of these cases we cover, the reader can find more sophisticated techniques that usually yield more accurate estimates. Where possible, we try to signpost these.\n",
    "\n",
    "### Counting *nearby* features"
   ]
  },
  {
   "cell_type": "markdown",
   "id": "successful-general",
   "metadata": {},
   "source": [
    "A first, conceptually straightforward, approach is to augment our dataset by counting how many points of a different dataset are in the vicinity of each observation. For example, we might want to know how many bars and restaurants each Airbnb has within a given radius. This count can then become an additional  feature of our dataset, stored in a new column of `airbnbs`.\n",
    "\n",
    "To obtain information on the location of restaurants and bars, we can download it from OpenStreetMap directly using `osmnx`. We first query all the points of interest (POIs) within the area our points cover, and then filter out everything except restaurants and bars. For that, we require  a polygon that covers all our `airbnbs` points. From [Chapter 8](08_point_pattern_analysis), we can recall that there are a few different hulls that can be used. We'll use the Convex Hull here (Fig. 1), which is the smallest convex polygon that covers all the points in the set. "
   ]
  },
  {
   "cell_type": "code",
   "execution_count": null,
   "id": "herbal-project",
   "metadata": {
    "caption": "Convex hull of the Airbnbs in San Diego.",
    "tags": []
   },
   "outputs": [],
   "source": [
    "airbnbs_ch = airbnbs.unary_union.convex_hull\n",
    "geopandas.GeoSeries([airbnbs_ch]).plot()"
   ]
  },
  {
   "cell_type": "markdown",
   "id": "characteristic-filename",
   "metadata": {},
   "source": [
    "Using this polygon, we can use the `osmnx` package to fetch POIs from OpenStreetMap. We can make our request more manageable by only requesting POIs that fall within specific categories. Below, we'll request POIs within San Diego that are \"restaurants\" or \"bars,\" according to their metadata stored in OpenStreetMap. Once returned, we only use a few columns to keep the table small and tidy:"
   ]
  },
  {
   "cell_type": "code",
   "execution_count": null,
   "id": "associate-library",
   "metadata": {},
   "outputs": [],
   "source": [
    "%%time\n",
    "pois = osmnx.geometries_from_polygon(\n",
    "    airbnbs_ch, tags={\"amenity\": [\"restaurant\", \"bar\"]}\n",
    ").reset_index()[\n",
    "    [\n",
    "        \"element_type\",\n",
    "        \"osmid\",\n",
    "        \"amenity\",\n",
    "        \"cuisine\",\n",
    "        \"name\",\n",
    "        \"geometry\",\n",
    "    ]\n",
    "]"
   ]
  },
  {
   "cell_type": "code",
   "execution_count": null,
   "id": "czech-invite",
   "metadata": {
    "tags": [
     "remove-cell"
    ]
   },
   "outputs": [],
   "source": [
    "try:\n",
    "    _ = geopandas.read_file(\"../data/cache/sd_pois.gpkg\")\n",
    "except:\n",
    "    pois.to_file(\"../data/cache/sd_pois.gpkg\", driver=\"GPKG\")"
   ]
  },
  {
   "cell_type": "markdown",
   "id": "vietnamese-comfort",
   "metadata": {},
   "source": [
    "The code snippet above sends a query to the OpenStreetMap server to fetch the data on amenities. Note that it _requires_ internet connectivity to work. If you are working on the book _without_ connectivity, a cached version of the dataset is available on the data folder and can be read as:"
   ]
  },
  {
   "cell_type": "code",
   "execution_count": null,
   "id": "conditional-wagon",
   "metadata": {},
   "outputs": [],
   "source": [
    "pois = geopandas.read_file(\"../data/cache/sd_pois.gpkg\")"
   ]
  },
  {
   "cell_type": "markdown",
   "id": "objective-paragraph",
   "metadata": {},
   "source": [
    "This provides us with every location within our convex hull that is tagged in the metadata stored in OpenStreetMap as a \"restaurant\" or \"bar\". Overall, this provides us with about 1300 POIs: "
   ]
  },
  {
   "cell_type": "code",
   "execution_count": null,
   "id": "acting-theory",
   "metadata": {},
   "outputs": [],
   "source": [
    "pois.groupby(\"amenity\").amenity.count()"
   ]
  },
  {
   "cell_type": "markdown",
   "id": "sought-glasgow",
   "metadata": {},
   "source": [
    "Once loaded into `pois` as a `GeoDataFrame`, we use the code below to generate Figure 2, which takes a peek at their location, as compared with Airbnb spots:"
   ]
  },
  {
   "cell_type": "code",
   "execution_count": null,
   "id": "legitimate-method",
   "metadata": {
    "caption": "Points of interest (POIs) and Airbnbs in San Diego.",
    "tags": []
   },
   "outputs": [],
   "source": [
    "# Set up figure and axis\n",
    "f, ax = plt.subplots(1, figsize=(12, 12))\n",
    "# Plot Airbnb properties\n",
    "airbnbs.plot(ax=ax, marker=\".\")\n",
    "# Plot POIs in red\n",
    "pois.plot(ax=ax, color=\"r\")\n",
    "# Add Carto's Voyager basemap\n",
    "contextily.add_basemap(\n",
    "    ax,\n",
    "    crs=airbnbs.crs.to_string(),\n",
    "    source=contextily.providers.CartoDB.Voyager,\n",
    ")\n",
    "# Remove axes\n",
    "ax.set_axis_off()\n",
    "# Display\n",
    "plt.show()"
   ]
  },
  {
   "cell_type": "markdown",
   "id": "serious-community",
   "metadata": {},
   "source": [
    "Now for some feature engineering. It may be extremely useful to know whether an Airbnb is located in a \"hot\" location, with a lot of restaurants and bars to choose from. Alternatively, if Airbnbs are very remote, they might not be as lucrative for short, expensive \"city-break\" reservations. That is, Airbnb users may decide to reserve stays where there are a lot of dining and drinking opportunities, and thus may be *willing to pay more* for the same accommodation. We might be able to predict prices better if we know about the drinking and dining scene near the Airbnb. \n",
    "\n",
    "Thus, we can *engineer features* in the Airbnb data using the nearby POIs. To do this, we can create a new feature for the Airbnb dataset --that is, a new column in `airbnbs`-- which incorporates information about how many POIs are *nearby* each property. This kind of \"feature counting\" is useful in applications where the mere presence of nearby features can affect the quantity we are modeling. \n",
    "\n",
    "To do this kind of feature engineering, let us first walk through what we need to do at a conceptual level: \n",
    "\n",
    "1. Decide what is *nearby*. This will dictate how far we go from each Airbnb when counting the number of \"nearby\" bars and restaurants. For this example, we will use a 500-meter buffer, which is approximately the distance of a leisurely ten-minute walk.\n",
    "2. For each Airbnb, determine whether POIs are *within* a leisurely ten-minute walk. \n",
    "3. Count how many POIs are within the specified radius of each Airbnb.\n",
    "\n",
    "At the end of this procedure, we have the number of bars and restaurants that are within a leisurely walk of the Airbnb, which might be useful in predicting the price of each Airbnb. \n",
    "\n",
    "Let us now translate the list above into code. For part 1., we need to be able to measure distances in meters. However, `airbnbs` is originally expressed in degrees, since it is provided in terms of locations in latitude and longitude:"
   ]
  },
  {
   "cell_type": "code",
   "execution_count": null,
   "id": "wooden-administration",
   "metadata": {},
   "outputs": [],
   "source": [
    "airbnbs.crs"
   ]
  },
  {
   "cell_type": "markdown",
   "id": "metallic-longitude",
   "metadata": {},
   "source": [
    "In addition, the `pois` are also provided in terms of their latitude and longitude:"
   ]
  },
  {
   "cell_type": "code",
   "execution_count": null,
   "id": "assured-buffer",
   "metadata": {},
   "outputs": [],
   "source": [
    "pois.crs"
   ]
  },
  {
   "cell_type": "markdown",
   "id": "outstanding-furniture",
   "metadata": {},
   "source": [
    "Therefore, we need to convert this into a coordinate system that is easier to work with. Here, we will use a projection common for mapping in California, the California Albers projection:"
   ]
  },
  {
   "cell_type": "code",
   "execution_count": null,
   "id": "differential-space",
   "metadata": {},
   "outputs": [],
   "source": [
    "airbnbs_albers = airbnbs.to_crs(epsg=3311)\n",
    "pois_albers = pois.to_crs(epsg=3311)"
   ]
  },
  {
   "cell_type": "code",
   "execution_count": null,
   "id": "unlikely-jackson",
   "metadata": {},
   "outputs": [],
   "source": [
    "pois_albers.crs"
   ]
  },
  {
   "cell_type": "markdown",
   "id": "turned-variety",
   "metadata": {},
   "source": [
    "With this, we can create the radius of 500 meters around each Airbnb. This is often called *buffering*, where a shape is dilated by a given radius."
   ]
  },
  {
   "cell_type": "code",
   "execution_count": null,
   "id": "latter-priority",
   "metadata": {},
   "outputs": [],
   "source": [
    "airbnbs_albers[\"buffer_500m\"] = airbnbs_albers.buffer(500)"
   ]
  },
  {
   "cell_type": "markdown",
   "id": "boxed-europe",
   "metadata": {},
   "source": [
    "Now, `abb_buffer` contains a 500-meter circle around each Airbnb.\n",
    "\n",
    "Using these, we can count the number of POIs that are within these areas using a *spatial join*. Spatial joins link geometries based on spatial relationships (or predicates). Here, we need to know the relationship: `pois within airbnb_buffers`, where `within` is the predicate relating `pois` to `airbnb_buffers`. Predicates are not always *reversible*: no `airbnb_buffer` can be `within` a `poi`. In `geopandas`, we can compute all pairs of relations between the `pois` and `airbnb_buffers` efficiently using the `sjoin` function, which takes a `predicate` argument defining the requested relationship between the first and second argument. "
   ]
  },
  {
   "cell_type": "code",
   "execution_count": null,
   "id": "modular-deficit",
   "metadata": {},
   "outputs": [],
   "source": [
    "# Spatial join, appending attributes from right table to left one\n",
    "joined = geopandas.sjoin(\n",
    "    # Right table - POIs\n",
    "    pois_albers,\n",
    "    # Left table - Airbnb with the geometry reset from the original\n",
    "    # points to the 500-meter buffer and selecting only `id` and\n",
    "    # `buffer_500m` column\n",
    "    airbnbs_albers.set_geometry(\"buffer_500m\")[[\"id\", \"buffer_500m\"]],\n",
    "    # Operation (spatial predicate) to use for the spatial join (`within`)\n",
    "    op=\"within\",\n",
    ")"
   ]
  },
  {
   "cell_type": "markdown",
   "id": "patient-cologne",
   "metadata": {},
   "source": [
    "The resulting `joined` object contains a row for every pair of POI and Airbnb that are linked. From there, we can apply a group-by operation, using the Airbnb ID, and count how many POIs each Airbnb has within 500 meters of distance:"
   ]
  },
  {
   "cell_type": "code",
   "execution_count": null,
   "id": "proud-verification",
   "metadata": {},
   "outputs": [],
   "source": [
    "# Group POIs by Airbnb ID (`id`)\n",
    "poi_count = (\n",
    "    joined.groupby(\n",
    "        \"id\"\n",
    "        # Keep only POI id column (`osmid`)\n",
    "    )[\n",
    "        \"osmid\"\n",
    "        # Count POIs by Airbnb + convert Series into DataFrame\n",
    "    ]\n",
    "    .count()\n",
    "    .to_frame(\"poi_count\")\n",
    ")\n",
    "# Print top of the table\n",
    "poi_count.head()"
   ]
  },
  {
   "cell_type": "markdown",
   "id": "raising-american",
   "metadata": {},
   "source": [
    "The resulting `Series` is indexed on the Airbnb IDs, so we can assign it to the original `airbnbs` table. In this case, we know by construction that missing Airbnbs in `poi_count` do not have any POI within 500m, so we can fill missing values in the column with zeros."
   ]
  },
  {
   "cell_type": "code",
   "execution_count": null,
   "id": "rental-difference",
   "metadata": {},
   "outputs": [],
   "source": [
    "airbnbs_w_counts = airbnbs_albers.merge(\n",
    "    poi_count, left_on=\"id\", right_index=True\n",
    ").fillna({\"poi_count\": 0})"
   ]
  },
  {
   "cell_type": "markdown",
   "id": "challenging-automation",
   "metadata": {},
   "source": [
    "We can visualize now (Fig. 3) the distribution of counts to get a sense of how \"well-served\" Airbnb properties are arranged over space:"
   ]
  },
  {
   "cell_type": "code",
   "execution_count": null,
   "id": "electronic-northeast",
   "metadata": {
    "caption": "Number of POIs within 500 meters of each Airbnb.",
    "tags": []
   },
   "outputs": [],
   "source": [
    "# Set up figure and axis\n",
    "f, ax = plt.subplots(1, figsize=(9, 9))\n",
    "# Plot quantile map of No. of POIs for every Airbnb\n",
    "airbnbs_w_counts.plot(\n",
    "    column=\"poi_count\",\n",
    "    scheme=\"quantiles\",\n",
    "    alpha=0.5,\n",
    "    legend=True,\n",
    "    ax=ax,\n",
    ")\n",
    "# Add basemap\n",
    "contextily.add_basemap(\n",
    "    ax,\n",
    "    crs=airbnbs_albers.crs.to_string(),\n",
    "    source=contextily.providers.CartoDB.Voyager,\n",
    ")\n",
    "# Remove axes\n",
    "ax.set_axis_off();"
   ]
  },
  {
   "cell_type": "markdown",
   "id": "saving-pierce",
   "metadata": {},
   "source": [
    "### Assigning point values from surfaces: elevation of Airbnbs"
   ]
  },
  {
   "cell_type": "markdown",
   "id": "caroline-might",
   "metadata": {},
   "source": [
    "We have just seen how to count points around each observation in a point dataset. In other cases, we might be confronted with a related but different challenge: transferring the value of a particular point in a surface to a point in a different dataset. \n",
    "\n",
    "To make this more accessible, let us illustrate the context with an example question: *what is the elevation of each Airbnb property?* To answer this question, we require, at least, the following:\n",
    "\n",
    "1. A sample of Airbnb property locations.\n",
    "1. A dataset of elevation. We will use here the [NASA DEM](../data/nasadem/README.md) surface for the San Diego area.\n",
    "\n",
    "We use the code below, which opens and plot the file with elevation data, to generate Figure 4:"
   ]
  },
  {
   "cell_type": "code",
   "execution_count": null,
   "id": "affecting-choice",
   "metadata": {
    "caption": "Digital elevation model of the San Diego area.",
    "tags": []
   },
   "outputs": [],
   "source": [
    "# Open file\n",
    "dem = rasterio.open(\"../data/nasadem/nasadem_sd.tif\")\n",
    "# Set up figure and axis\n",
    "f, ax = plt.subplots()\n",
    "# Display elevation data on created axis\n",
    "rioshow(dem, ax=ax)\n",
    "# Remove axes\n",
    "ax.set_axis_off();"
   ]
  },
  {
   "cell_type": "markdown",
   "id": "published-algeria",
   "metadata": {},
   "source": [
    "Let's first check the CRS is aligned with our sample of point locations:"
   ]
  },
  {
   "cell_type": "code",
   "execution_count": null,
   "id": "amber-london",
   "metadata": {},
   "outputs": [],
   "source": [
    "dem.crs"
   ]
  },
  {
   "cell_type": "markdown",
   "id": "automated-moses",
   "metadata": {},
   "source": [
    "We have opened the file with `rasterio`, which has not read the entire dataset just yet. This feature allows us to use this approach with files that are potentially very large, as only requested data is read into memory. To extract a discrete set of values from the elevation surface in `dem`, we can use `sample`. For a single location, this is how it works:"
   ]
  },
  {
   "cell_type": "code",
   "execution_count": null,
   "id": "forbidden-logic",
   "metadata": {},
   "outputs": [],
   "source": [
    "list(dem.sample([(-117.24592208862305, 32.761619109301606)]))"
   ]
  },
  {
   "cell_type": "markdown",
   "id": "ruled-professor",
   "metadata": {},
   "source": [
    "Now, we can  apply this logic to a sequence of coordinates. For that, we need to extract them from the `geometry` object:"
   ]
  },
  {
   "cell_type": "code",
   "execution_count": null,
   "id": "computational-violence",
   "metadata": {},
   "outputs": [],
   "source": [
    "# Create table with XY coordinates of Airbnb locations\n",
    "abb_xys = pandas.DataFrame(\n",
    "    {\"X\": airbnbs.geometry.x, \"Y\": airbnbs.geometry.y}\n",
    "    # Convert from DataFrame to array of XY pairs\n",
    ").to_records(index=False)"
   ]
  },
  {
   "cell_type": "markdown",
   "id": "solar-cooking",
   "metadata": {},
   "source": [
    "And then we can apply the same logic as above to sample elevation for the list of Airbnb locations:"
   ]
  },
  {
   "cell_type": "code",
   "execution_count": null,
   "id": "transparent-expert",
   "metadata": {},
   "outputs": [],
   "source": [
    "# Save results as a DataFrame\n",
    "elevation = pandas.DataFrame(\n",
    "    # Sequence of elevation measurements sampled at the Airbnb locations\n",
    "    dem.sample(abb_xys),\n",
    "    # Name of the column to be created to store elevation\n",
    "    columns=[\"Elevation\"],\n",
    "    # Row index, mirroring that of Airbnb locations\n",
    "    index=airbnbs.index,\n",
    ")\n",
    "# Print top of the table\n",
    "elevation.head()"
   ]
  },
  {
   "cell_type": "markdown",
   "id": "suitable-remark",
   "metadata": {},
   "source": [
    "Now that we have a table with the elevation of each Airbnb property, we can plot the site elevations on a map (Fig. 5) for visual inspection:"
   ]
  },
  {
   "cell_type": "code",
   "execution_count": null,
   "id": "equivalent-occurrence",
   "metadata": {
    "caption": "Elevation above sea level at each Airbnb.",
    "tags": []
   },
   "outputs": [],
   "source": [
    "# Set up figure and axis\n",
    "f, ax = plt.subplots(1, figsize=(9, 9))\n",
    "# Join elevation data to original Airbnb table\n",
    "airbnbs.join(\n",
    "    elevation\n",
    "    # Plot elevation at each Airbnb location as a quantile choropleth\n",
    ").plot(\n",
    "    column=\"Elevation\",\n",
    "    scheme=\"quantiles\",\n",
    "    legend=True,\n",
    "    alpha=0.5,\n",
    "    ax=ax,\n",
    ")\n",
    "# Add Esri's terrain basemap\n",
    "contextily.add_basemap(\n",
    "    ax,\n",
    "    crs=airbnbs.crs.to_string(),\n",
    "    source=contextily.providers.Esri.WorldTerrain,\n",
    "    alpha=0.5,\n",
    ")\n",
    "# Remove axes\n",
    "ax.set_axis_off();"
   ]
  },
  {
   "cell_type": "markdown",
   "id": "tight-accommodation",
   "metadata": {},
   "source": [
    "### Point interpolation using scikit-learn \n",
    "\n",
    "In the previous example, we have transferred information from a surface (stored in a raster layer) to a set of points; in other words, we have gone from surface to points. Sometimes, however, we do not have the luxury of a ready-made surface. Instead, all we have available is a set of points with measurements for the variable of interest that do not match the points we want the information for. In this situation, a solution we can rely on is *spatial interpolation*. For a continuous geographical field measured at a set of points, *spatial interpolation* methods provide us a way to guess at the value a field would take at sites we do not measure. \n",
    "\n",
    "There are many sophisticated methods with which this can be done. *Kriging*, common in the sub-field of spatial statistics called \"geostatistics\", is one such practice based on the theory of *Gaussian Process Regression.* Another common approach, *geographically weighted regression*, provides unique model estimates at every control point, as well as predictions for places where there is no data. Here, though, we'll use a fairly basic $k$-nearest neighbor prediction algorithm from `scikit-learn` to demonstrate the process. "
   ]
  },
  {
   "cell_type": "code",
   "execution_count": null,
   "id": "portuguese-prophet",
   "metadata": {},
   "outputs": [],
   "source": [
    "from sklearn.neighbors import KNeighborsRegressor"
   ]
  },
  {
   "cell_type": "markdown",
   "id": "hawaiian-engine",
   "metadata": {},
   "source": [
    "This algorithm will select the nearest ten listings, then compute the prediction using a weighted average of these nearest observations. To keep predictions relatively consistent, we will build an interpolation only for listings that are entire homes/apartments with two bedrooms:"
   ]
  },
  {
   "cell_type": "code",
   "execution_count": null,
   "id": "other-recording",
   "metadata": {},
   "outputs": [],
   "source": [
    "two_bed_homes = airbnbs[\n",
    "    airbnbs[\"bedrooms\"] == 2 & airbnbs[\"rt_Entire_home/apt\"]\n",
    "]"
   ]
  },
  {
   "cell_type": "markdown",
   "id": "textile-friendly",
   "metadata": {},
   "source": [
    "Once subset, we can extract the XY coordinates for each of them into a two-dimensional array:"
   ]
  },
  {
   "cell_type": "code",
   "execution_count": null,
   "id": "julian-anaheim",
   "metadata": {},
   "outputs": [],
   "source": [
    "two_bed_home_locations = numpy.column_stack(\n",
    "    (two_bed_homes.geometry.x, two_bed_homes.geometry.y)\n",
    ")"
   ]
  },
  {
   "cell_type": "markdown",
   "id": "billion-graduation",
   "metadata": {},
   "source": [
    "To plot the interpolated surface, we must also construct a grid of locations for which we will make predictions. This can be done using `numpy.meshgrid`, which constructs all the combinations of the input dimensions as a grid of outputs. "
   ]
  },
  {
   "cell_type": "code",
   "execution_count": null,
   "id": "removed-income",
   "metadata": {},
   "outputs": [],
   "source": [
    "# Extract bounding box of Airbnb locations\n",
    "xmin, ymin, xmax, ymax = airbnbs.total_bounds\n",
    "# Generate X and Y meshes for the space within the bounding box\n",
    "x, y = numpy.meshgrid(\n",
    "    numpy.linspace(xmin, xmax), numpy.linspace(ymin, ymax)\n",
    ")"
   ]
  },
  {
   "cell_type": "markdown",
   "id": "agreed-postcard",
   "metadata": {},
   "source": [
    "To build an intuition on what they are we create Figure 6, which visualizes both meshes side-by-side:"
   ]
  },
  {
   "cell_type": "code",
   "execution_count": null,
   "id": "motivated-dominican",
   "metadata": {
    "caption": "Example grid showing the coordiantes used for interpolation.",
    "tags": []
   },
   "outputs": [],
   "source": [
    "# Set up figure\n",
    "f, ax = plt.subplots(1, 2)\n",
    "# Plot X mesh\n",
    "ax[0].imshow(x)\n",
    "# Plot Y mesh\n",
    "ax[1].imshow(y)\n",
    "# Label X mesh\n",
    "ax[0].set_title(\"X values\")\n",
    "# Label Y mesh\n",
    "ax[1].set_title(\"Y values\")\n",
    "# Display\n",
    "plt.show()"
   ]
  },
  {
   "cell_type": "markdown",
   "id": "downtown-snake",
   "metadata": {},
   "source": [
    "With these coordinates, we can make a GeoDataFrame containing the grid cells at which we would like to predict:"
   ]
  },
  {
   "cell_type": "code",
   "execution_count": null,
   "id": "opponent-allergy",
   "metadata": {},
   "outputs": [],
   "source": [
    "# Bind a 1D (flattened) of X and Y meshes into a 2D array\n",
    "grid = numpy.column_stack((x.flatten(), y.flatten()))\n",
    "# Convert a 1D (flattened) version of X and Y meshes into a geo-table\n",
    "grid_df = geopandas.GeoDataFrame(\n",
    "    geometry=geopandas.points_from_xy(x=x.flatten(), y=y.flatten())\n",
    ")"
   ]
  },
  {
   "cell_type": "markdown",
   "id": "handy-plaza",
   "metadata": {},
   "source": [
    "We can visualize this grid together with the original Airbnb locations (Fig. 7) to get a better sense of what we have just built:"
   ]
  },
  {
   "cell_type": "code",
   "execution_count": null,
   "id": "burning-horse",
   "metadata": {
    "caption": "Grid underlaid Airbnb locations used for interpolation.",
    "tags": []
   },
   "outputs": [],
   "source": [
    "# Plot grid points with size 1\n",
    "ax = grid_df.plot(markersize=1)\n",
    "# Plot on top Airbnb locations in red\n",
    "two_bed_homes.plot(ax=ax, color=\"red\")\n",
    "# Add basemap\n",
    "contextily.add_basemap(\n",
    "    ax,\n",
    "    crs=two_bed_homes.crs.to_string(),\n",
    "    source=contextily.providers.CartoDB.VoyagerNoLabels,\n",
    ")\n",
    "# Remove axes\n",
    "ax.set_axis_off();"
   ]
  },
  {
   "cell_type": "markdown",
   "id": "human-afternoon",
   "metadata": {},
   "source": [
    "With this done, we can now construct the predictions. First we train the model:"
   ]
  },
  {
   "cell_type": "code",
   "execution_count": null,
   "id": "velvet-biodiversity",
   "metadata": {},
   "outputs": [],
   "source": [
    "model = KNeighborsRegressor(n_neighbors=10, weights=\"distance\").fit(\n",
    "    two_bed_home_locations, two_bed_homes.price\n",
    ")"
   ]
  },
  {
   "cell_type": "markdown",
   "id": "powerful-salad",
   "metadata": {},
   "source": [
    "And then we predict at the grid cell locations:"
   ]
  },
  {
   "cell_type": "code",
   "execution_count": null,
   "id": "fewer-threat",
   "metadata": {},
   "outputs": [],
   "source": [
    "predictions = model.predict(grid)"
   ]
  },
  {
   "cell_type": "markdown",
   "id": "every-reason",
   "metadata": {},
   "source": [
    "The result can be displayed as a continuous choropleth (Fig. 8), for example:"
   ]
  },
  {
   "cell_type": "code",
   "execution_count": null,
   "id": "secret-positive",
   "metadata": {
    "caption": "Predicted Airbnb price using ten nearest neighbor interpolation.",
    "tags": []
   },
   "outputs": [],
   "source": [
    "ax = grid_df.plot(predictions)\n",
    "ax.set_axis_off();"
   ]
  },
  {
   "cell_type": "markdown",
   "id": "further-persian",
   "metadata": {},
   "source": [
    "The map is a result not only of the underlying data but also the algorithm we have used. For example, you can see in Figure 9 (generated with the code below) that the surface gets smoother as you increase the number of nearest neighbors to consider."
   ]
  },
  {
   "cell_type": "code",
   "execution_count": null,
   "id": "inside-victorian",
   "metadata": {
    "caption": "Predicted nightly price using a varying number of nearest neighbors. Note the plot smooths considerably as more neighbors are added.",
    "tags": []
   },
   "outputs": [],
   "source": [
    "# Set up figure and 8 axes\n",
    "f, ax = plt.subplots(1, 8, figsize=(16, 4))\n",
    "# Loop over eight values equally spaced between 2 and 100\n",
    "for i, k_neighbors in enumerate(\n",
    "    numpy.geomspace(2, 100, 8).astype(int)\n",
    "):\n",
    "    # Select axis to plot estimates for that value of k\n",
    "    facet = ax[i]\n",
    "    # Set up a KNN regressor instance with k_neighbors neighbors\n",
    "    predictions = (\n",
    "        KNeighborsRegressor(\n",
    "            n_neighbors=k_neighbors,\n",
    "            weights=\"distance\"\n",
    "            # Fit instance to the 2-bed subset\n",
    "        )\n",
    "        .fit(\n",
    "            two_bed_home_locations,\n",
    "            two_bed_homes.price\n",
    "            # Get predictions for locations on the grid\n",
    "        )\n",
    "        .predict(grid)\n",
    "    )\n",
    "    # Plot predictions\n",
    "    grid_df.plot(predictions, ax=facet)\n",
    "    # Remove axis\n",
    "    facet.axis(\"off\")\n",
    "    # Set axis title\n",
    "    facet.set_title(f\"{k_neighbors} neighbors\")"
   ]
  },
  {
   "cell_type": "markdown",
   "id": "driving-productivity",
   "metadata": {},
   "source": [
    "Focusing in on central San Diego tells the story a bit more clearly, since there are interesting points there to show. The increasing number of nearest neighbors increases the smoothness of the interpolated surface. To visualize a zoom into the region, we begin by extracting its bounding box:"
   ]
  },
  {
   "cell_type": "code",
   "execution_count": null,
   "id": "opening-scratch",
   "metadata": {},
   "outputs": [],
   "source": [
    "central_sd_bounds = [-117.179832, 32.655563, -117.020874, 32.769909]\n",
    "(\n",
    "    central_xmin,\n",
    "    central_ymin,\n",
    "    central_xmax,\n",
    "    central_ymax,\n",
    ") = central_sd_bounds"
   ]
  },
  {
   "cell_type": "markdown",
   "id": "indirect-reynolds",
   "metadata": {},
   "source": [
    "And repeating the process above for this area, including building the meshes of coordinates:"
   ]
  },
  {
   "cell_type": "code",
   "execution_count": null,
   "id": "returning-current",
   "metadata": {},
   "outputs": [],
   "source": [
    "# Build X and Y meshes\n",
    "central_x, central_y = numpy.meshgrid(\n",
    "    numpy.linspace(central_xmin, central_xmax),\n",
    "    numpy.linspace(central_ymin, central_ymax),\n",
    ")\n",
    "# Bind X and Y meshes in a 2D array\n",
    "central_grid = numpy.column_stack(\n",
    "    (central_x.flatten(), central_y.flatten())\n",
    ")\n",
    "# Bind X and Y meshes in a geo-table\n",
    "central_grid_df = geopandas.GeoDataFrame(\n",
    "    geometry=geopandas.points_from_xy(\n",
    "        x=central_x.flatten(), y=central_y.flatten()\n",
    "    )\n",
    ")"
   ]
  },
  {
   "cell_type": "markdown",
   "id": "bound-mirror",
   "metadata": {},
   "source": [
    "Finally, we can reproduce the sequence of figures with different values of K only for the central part of the San Diego area (Fig. 10):"
   ]
  },
  {
   "cell_type": "code",
   "execution_count": null,
   "id": "greater-importance",
   "metadata": {
    "caption": "Focus on downtown San Diego predictions for nearest neighbor interpolation.",
    "tags": []
   },
   "outputs": [],
   "source": [
    "# Set up figure and subplot\n",
    "f, ax = plt.subplots(1, 5, figsize=(16, 4), sharex=True, sharey=True)\n",
    "# Loop over five values equally spaced between 2 and 100\n",
    "for i, k_neighbors in enumerate(\n",
    "    numpy.geomspace(2, 100, 5).astype(int)\n",
    "):\n",
    "    # Select axis to plot estimates for that value of k\n",
    "    facet = ax[i]\n",
    "    # Set up a KNN regressor instance with k_neighbors neighbors\n",
    "    predictions = (\n",
    "        KNeighborsRegressor(\n",
    "            n_neighbors=k_neighbors,\n",
    "            weights=\"distance\"\n",
    "            # Fit instance to the 2-bed subset\n",
    "        )\n",
    "        .fit(\n",
    "            two_bed_home_locations,\n",
    "            two_bed_homes.price\n",
    "            # Get predictions for locations on the grid\n",
    "        )\n",
    "        .predict(central_grid)\n",
    "    )\n",
    "    # Plot predictions\n",
    "    central_grid_df.plot(predictions, ax=facet)\n",
    "    # Remove axis\n",
    "    facet.axis(\"off\")\n",
    "    # Set axis title\n",
    "    facet.set_title(f\"{k_neighbors} neighbors\")"
   ]
  },
  {
   "cell_type": "markdown",
   "id": "federal-chile",
   "metadata": {},
   "source": [
    "Plenty more of these methods are implemented in `scikit-learn.neighbors`, as well as kriging methods in `GSTools` {cite}`sebastian_muller_2021_5169658` and geographically weighted regression in `mgwr` {cite}`oshan2019mgwr`."
   ]
  },
  {
   "cell_type": "markdown",
   "id": "manufactured-listening",
   "metadata": {},
   "source": [
    "### Polygon to point\n",
    "\n",
    "We now move on to a case where the information we are interested in matching to our set of points is stored in a polygon geography. For example, we would like to know the population density of the neighborhood in which each Airbnb is located. This is conceptually similar to the sampling example above, but in the case the information we want to sample is not a surface but a geo-table of polygons. To determine density, we will download population estimates at the census tract level, and \"transfer\" those estimates over to each Airbnb point. Geographically, the only challenge here is finding the containing polygon for each point, and then performing what is in spatial databases parlance known as a \"spatial join\", by which we link the two layers through their spatial connection.\n",
    "\n",
    "Let us pull down the number of inhabitants from the American Community Survey for tracts in San Diego:"
   ]
  },
  {
   "cell_type": "code",
   "execution_count": null,
   "id": "martial-player",
   "metadata": {},
   "outputs": [],
   "source": [
    "try:\n",
    "    acs = cenpy.products.ACS()\n",
    "    sd_pop = acs.from_msa(\n",
    "        \"San Diego, CA\", level=\"tract\", variables=[\"B02001_001E\"]\n",
    "    )\n",
    "    sd_pop.to_file(\"../data/cache/sd_census.gpkg\", driver='GPKG')\n",
    "except:\n",
    "    print(\"Remote loading failed...\")"
   ]
  },
  {
   "cell_type": "markdown",
   "id": "accepting-spyware",
   "metadata": {},
   "source": [
    "The code snippet above sends a query to the Census Bureau server to fetch the data for San Diego. Note that it _requires_ internet connectivity to work. If you are working on the book _without_ connectivity, a cached version of the dataset is available on the data folder and can be read as:"
   ]
  },
  {
   "cell_type": "code",
   "execution_count": null,
   "id": "undefined-sudan",
   "metadata": {},
   "outputs": [],
   "source": [
    "sd_pop = geopandas.read_file(\"../data/cache/sd_census.gpkg\")"
   ]
  },
  {
   "cell_type": "markdown",
   "id": "comparable-first",
   "metadata": {},
   "source": [
    "And calculate population density:"
   ]
  },
  {
   "cell_type": "code",
   "execution_count": null,
   "id": "dressed-publisher",
   "metadata": {},
   "outputs": [],
   "source": [
    "sd_pop[\"density\"] = (\n",
    "    sd_pop[\"B02001_001E\"] / sd_pop.to_crs(epsg=3311).area\n",
    ")"
   ]
  },
  {
   "cell_type": "markdown",
   "id": "cooperative-moisture",
   "metadata": {},
   "source": [
    "Now, to \"transfer\" density estimates to each Airbnb, we can rely on the spatial join in `geopandas`:"
   ]
  },
  {
   "cell_type": "code",
   "execution_count": null,
   "id": "extended-ordinary",
   "metadata": {},
   "outputs": [],
   "source": [
    "j = geopandas.sjoin(airbnbs, sd_pop.to_crs(airbnbs.crs))"
   ]
  },
  {
   "cell_type": "markdown",
   "id": "laughing-nursery",
   "metadata": {},
   "source": [
    "The result is a table with one row per Airbnb and one column for each attribute we originally had for properties, *as well as* those of the tract where the area is located:"
   ]
  },
  {
   "cell_type": "code",
   "execution_count": null,
   "id": "rural-counter",
   "metadata": {},
   "outputs": [],
   "source": [
    "j.info()"
   ]
  },
  {
   "cell_type": "markdown",
   "id": "roman-bulgarian",
   "metadata": {},
   "source": [
    "### Area to area interpolation\n",
    "\n",
    "The final case of map matching we consider is transfer of information from one polygon/areal geography to a different one. This is a common use-case when an analysis requires data that is provided at different levels of aggregation and different boundary delineations.\n",
    "\n",
    "There is a large literature around this problem under the umbrella of dasymetric mapping {cite}`eicher2001dasymetric`. The conceptual idea is relatively straightforward: we want to apportion values from one set of polygons to another based on how much \"geography\" is shared. In its simplest case, we can do this based on area. We will assign values from the former geography to the latter one based on how much they share. Let us illustrate this with an example. We will call the geography for which we have data the \"source\", and that to which we want to transfer data the \"target\". Let's say we have a population count  measure for each of three source polygons, 1, 2, 3, and we have a target polygon A for which we require an estimated population. If the intersection of polygon A with each of the source polygons amounts to  50%, 30%, and 20% of the total area of polygon A, respectively, then the population estimate for A will be a weighted average between the rates in 1, 2, and 3, where the weights are 0.5, 0.3, and 0.2, respectively. \n",
    "\n",
    "We could also go in the other direction. If we had total population for polygon A, but population was not reported for polygons 1, 2, 3, we could use areal interpolation to allocate the population from A (now the source polygon) to each of the three target polygons. Polygon 1 would get 0.5 of the population of A, polygon 2 would get 0.3 of A's population, and C the remainder. Here we are assuming the area of A is completely exhausted by the areas of 1, 2, and 3, and that the latter polygons do not overlap with each other. Of course, underlying this exercise is the implicit assumption that the values we are interested in are uniformly distributed within each polygon in the source and target. In some cases, this is a valid assumption or, at least, it does not introduce critical errors; in others, this is not acceptable. Dasymetric mapping has proposed a large amount of sophistications that try to come up with more realistic estimates and that can incorporate additional information.\n",
    "\n",
    "To implement dasymetric mapping in Python, the best option is `tobler`, a package from the Pysal federation designed exactly for this goal. We will show here the simplest case, that of areal interpolation where apportioning is estimated based on area, but the package also provides more sophisticated approaches."
   ]
  },
  {
   "cell_type": "code",
   "execution_count": null,
   "id": "competitive-folks",
   "metadata": {},
   "outputs": [],
   "source": [
    "from tobler.area_weighted import area_interpolate"
   ]
  },
  {
   "cell_type": "markdown",
   "id": "regulated-journalism",
   "metadata": {},
   "source": [
    "For the example, we need two polygon layers. We will stick with San Diego and use the set of Census Tracts read above, and a grid layer built using the H3 hexagonal spatial index {cite}`brodsky2018h3`. Our goal will be to create population estimates for each hexagonal cell.\n",
    "\n",
    "First, let us load the H3 grid:"
   ]
  },
  {
   "cell_type": "code",
   "execution_count": null,
   "id": "closed-arkansas",
   "metadata": {},
   "outputs": [],
   "source": [
    "h3 = geopandas.read_file(\"../data/h3_grid/sd_h3_grid.gpkg\")"
   ]
  },
  {
   "cell_type": "markdown",
   "id": "indie-exemption",
   "metadata": {},
   "source": [
    "We are ready to interpolate:"
   ]
  },
  {
   "cell_type": "code",
   "execution_count": null,
   "id": "north-howard",
   "metadata": {},
   "outputs": [],
   "source": [
    "# Area interpolation from polygon geotable to polygon geo-table\n",
    "interpolated = area_interpolate(\n",
    "    # Source geo-table (converted to EPSG:3311 CRS)\n",
    "    source_df=sd_pop.to_crs(epsg=3311),\n",
    "    # Target geo-table (converted to EPSG:3311 CRS)\n",
    "    target_df=h3.to_crs(epsg=3311),\n",
    "    # Extensive variables in `source_df` to be interpolated (e.g. population)\n",
    "    extensive_variables=[\"B02001_001E\"],\n",
    "    # Intensive variables in `source_df` to be interpolated (e.g. density)\n",
    "    intensive_variables=[\"density\"],\n",
    ")"
   ]
  },
  {
   "cell_type": "markdown",
   "id": "scheduled-suspension",
   "metadata": {},
   "source": [
    "There is quite a bit going on in the cell above, let us unpack it:\n",
    "\n",
    "- Remember this method apportions data values based on area, so it makes sense to have an accurate estimate for the extent of each polygon. To do that, we convert each geography to Albers Equal (`EPSG:3311`), which is expressed in meters, using `to_crs`.\n",
    "- The method `area_interpolate` then takes the source and the target `GeoDataFrame` objects using the same naming convention we have in our explanation. \n",
    "- In addition, we need to specify which variables we would like to interpolate. here, Tobler makes a distinction:\n",
    "    - *Extensive* variables, or absolute values such as counts, aggregates, etc. (which we use for population, `B02001_001E`)\n",
    "    - *Intensive* variables, such as rates, ratios, etc. (which we select for density, as it is the ratio of population over area)\n",
    "\n",
    "The `interpolated` output object is a geo-table that contains the target polygons and estimates of the variable(s) we originally had for the source geography (population and density in this case). Figure 11 (generated with the code below) illustrates the transfer of information from one geography to the other with for the case of total population estimates."
   ]
  },
  {
   "cell_type": "code",
   "execution_count": null,
   "id": "searching-intent",
   "metadata": {
    "caption": "Interpolation of areal information to a different geometry. The Uber H3 hexagon grid is shown in the middle, and the interpolated values for population are shown on the right.",
    "tags": []
   },
   "outputs": [],
   "source": [
    "# Set up figure and axes\n",
    "f, axs = plt.subplots(1, 3, figsize=(18, 6))\n",
    "\n",
    "# Extract bounding box from output for easier visual comparison\n",
    "minX, minY, maxX, maxY = interpolated.total_bounds\n",
    "# Reproject tracts to EPSG:331\n",
    "sd_pop.to_crs(\n",
    "    epsg=3311\n",
    "    # Clip to the bounding box\n",
    ").cx[\n",
    "    minX:maxX,\n",
    "    minY:maxY\n",
    "    # Quantile choropleth for tract population\n",
    "].plot(\n",
    "    column=\"B02001_001E\", scheme=\"quantiles\", k=10, ax=axs[0]\n",
    ")\n",
    "# Remove axes\n",
    "axs[0].set_axis_off()\n",
    "\n",
    "# Reproject H3 hexagons to ESPG:3311\n",
    "h3.to_crs(\n",
    "    epsg=3311\n",
    "    # Plot hexagons\n",
    ").plot(ax=axs[1], markersize=0.5)\n",
    "# Remove axes\n",
    "axs[1].set_axis_off()\n",
    "\n",
    "# Plot hexagons with interpolated population\n",
    "interpolated.plot(\n",
    "    column=\"B02001_001E\", scheme=\"quantiles\", k=10, ax=axs[2]\n",
    ")\n",
    "# Remove axes\n",
    "axs[2].set_axis_off()\n",
    "\n",
    "# Adjust limits of tract map to hexagons bounding box\n",
    "# for easier visual comparison\n",
    "axs[0].set_xlim(minX, maxX)\n",
    "axs[0].set_ylim(minY, maxY)\n",
    "# Display\n",
    "plt.show()"
   ]
  },
  {
   "cell_type": "markdown",
   "id": "proved-boring",
   "metadata": {},
   "source": [
    "And Figure 12, generated with the code below, shows the equivalent for population density."
   ]
  },
  {
   "cell_type": "code",
   "execution_count": null,
   "id": "imperial-works",
   "metadata": {
    "caption": "Interpolation of population density from Census Tracts to Uber H3 Hexagons.",
    "tags": []
   },
   "outputs": [],
   "source": [
    "# Set up figure and axes\n",
    "f, axs = plt.subplots(1, 3, figsize=(18, 6))\n",
    "\n",
    "# Extract bounding box from output for easier visual comparison\n",
    "minX, minY, maxX, maxY = interpolated.total_bounds\n",
    "# Reproject tracts to EPSG:331\n",
    "sd_pop.to_crs(\n",
    "    epsg=3311\n",
    "    # Clip to the bounding box\n",
    ").cx[\n",
    "    minX:maxX,\n",
    "    minY:maxY\n",
    "    # Quantile choropleth for tract population density\n",
    "].plot(\n",
    "    column=\"density\", scheme=\"quantiles\", k=10, ax=axs[0]\n",
    ")\n",
    "# Remove axes\n",
    "axs[0].set_axis_off()\n",
    "\n",
    "# Reproject H3 hexagons to ESPG:3311\n",
    "h3.to_crs(\n",
    "    epsg=3311\n",
    "    # Plot hexagons\n",
    ").plot(ax=axs[1], markersize=0.5)\n",
    "# Remove axes\n",
    "axs[1].set_axis_off()\n",
    "\n",
    "# Plot hexagons with interpolated population density\n",
    "interpolated.plot(\n",
    "    column=\"density\", scheme=\"quantiles\", k=10, ax=axs[2]\n",
    ")\n",
    "# Remove axes\n",
    "axs[2].set_axis_off()\n",
    "\n",
    "# Adjust limits of tract map to hexagons bounding box\n",
    "# for easier visual comparison\n",
    "axs[0].set_xlim(minX, maxX)\n",
    "axs[0].set_ylim(minY, maxY)\n",
    "# Display\n",
    "plt.show()"
   ]
  },
  {
   "cell_type": "markdown",
   "id": "consecutive-burning",
   "metadata": {},
   "source": [
    "## Feature engineering using map synthesis\n",
    "\n",
    "Feature engineering with map matching is most helpful when you have additional information to use in the analysis. And, with the wealth of freely available data from censuses, satellites, and open volunteered geographic information vendors such as OpenStreetMap, map matching can be a very powerful tool for enriching and improving your analyses. However, it is sometimes *also* useful to only examine the data you've got, and use the spatial structure within to build better features or better models. While this might be done using spatially explicit models (like those covered in [Chapter 11](11_regression)), it is also possible to use map synthesis to build spatial features and improve model performance.\n",
    "\n",
    "There is an extensive amount of map synthesis features. In fact, many of them are usually derived for specific use cases and following the intuition of domain experts that can take technical guidance along the lines presented here. We discuss two main ones as an illustration, but reiterate that the sky really is the limit in this category. First, we will return to spatial *summary* features. Second, we will examine *regionalization features*, which detect and leverage geographical clusters in the data to improve prediction. \n",
    "\n",
    "### Spatial summary features in map synthesis"
   ]
  },
  {
   "cell_type": "markdown",
   "id": "spatial-variety",
   "metadata": {},
   "source": [
    "Just like in map matching, you can use spatial summary features in map synthesis to build better models. One approach involves constructing spatial summary measures of your training data. This is done in the same manner as in map matching, except we now refer only to the data on hand. Thus, we may want to determine whether nearby Airbnbs are \"competing\" with each Airbnb. We might do this by finding the distance to the nearest Airbnb with the same number of bedrooms, since two nearby listings that *also* sleep the same number of people likely will compete with one another for tenants. \n",
    "\n",
    "#### Counting neighbors\n",
    "\n",
    "A useful metric to characterize an observation in your data through geography is whether it is surrounded by other observations or not. This question (and the following one we cover) is another area of geographic data science where spatial weights matrices are useful.\n",
    "\n",
    "If we define to be \"surrounded by other observations\" as in \"having many neighbors\", this translates into the cardinalities of a spatial weights matrix (i.e., the number of neighbors recorded in the matrix for each observation).\n",
    "\n",
    "For example, we can \"engineer a feature\" that contains the number of Airbnb properties each property has within 500 meters by constructing a distance band object:"
   ]
  },
  {
   "cell_type": "code",
   "execution_count": null,
   "id": "intensive-chapter",
   "metadata": {},
   "outputs": [],
   "source": [
    "# Build distance band spatial weights matrix\n",
    "d500_w = weights.DistanceBand.from_dataframe(\n",
    "    airbnbs_albers, threshold=500, silence_warnings=True\n",
    ")"
   ]
  },
  {
   "cell_type": "markdown",
   "id": "labeled-techno",
   "metadata": {},
   "source": [
    "And extracting its cardinalities:"
   ]
  },
  {
   "cell_type": "code",
   "execution_count": null,
   "id": "vocational-japanese",
   "metadata": {},
   "outputs": [],
   "source": [
    "card = pandas.Series(d500_w.cardinalities)"
   ]
  },
  {
   "cell_type": "markdown",
   "id": "fleet-drawing",
   "metadata": {},
   "source": [
    "The `card` feature we have built will pick up areas of higher concentration of Airbnb properties with higher values, as we can see in Figure 13."
   ]
  },
  {
   "cell_type": "code",
   "execution_count": null,
   "id": "dying-calcium",
   "metadata": {
    "caption": "Number of Airbnbs within 500 meters of each listing.",
    "tags": []
   },
   "outputs": [],
   "source": [
    "# Set up figure and axis\n",
    "f, ax = plt.subplots(1)\n",
    "# Append cardinalities to main Airbnb geo-table\n",
    "airbnbs.assign(\n",
    "    card=card\n",
    "    # Plot cardinality quantile choropleth\n",
    ").plot(\"card\", scheme=\"quantiles\", k=7, markersize=1, ax=ax)\n",
    "# Add basemap\n",
    "contextily.add_basemap(ax, crs=airbnbs.crs)\n",
    "# Remove axes\n",
    "ax.set_axis_off();"
   ]
  },
  {
   "cell_type": "markdown",
   "id": "sonic-annotation",
   "metadata": {},
   "source": [
    "#### Distance buffers within a single table\n",
    "\n",
    "If what we are interested in is finding the average number of bedrooms around each house, we might do this using a row-standardized version of the `DistanceBand` weight object we have just built, which considers Airbnb as \"neighbors\" if they are within the distance threshold, and computing the spatial lag of the number of bedrooms."
   ]
  },
  {
   "cell_type": "code",
   "execution_count": null,
   "id": "visible-finance",
   "metadata": {},
   "outputs": [],
   "source": [
    "# Row standardize\n",
    "d500_w.transform = \"r\"\n",
    "# Compute spatial lag of No. of bedrooms\n",
    "local_average_bedrooms = weights.lag_spatial(\n",
    "    d500_w, airbnbs_albers[[\"bedrooms\"]].values\n",
    ")"
   ]
  },
  {
   "cell_type": "markdown",
   "id": "variable-saturday",
   "metadata": {},
   "source": [
    "While related, these features contain quite distinct pieces of information, and both may prove useful in modeling. This is shown in Figure 14, which compares them directly in a scatterplot. "
   ]
  },
  {
   "cell_type": "code",
   "execution_count": null,
   "id": "former-native",
   "metadata": {
    "caption": "Relationship between the number of bedrooms at an Airbnb and the typical number of bedrooms among nearby Airbnbs.",
    "tags": []
   },
   "outputs": [],
   "source": [
    "plt.scatter(\n",
    "    airbnbs_albers[[\"bedrooms\"]].values, local_average_bedrooms\n",
    ")\n",
    "plt.xlabel(\"Number of bedrooms\")\n",
    "plt.ylabel(\"Average of nearby\\n listings' bedrooms\");"
   ]
  },
  {
   "cell_type": "markdown",
   "id": "tested-killer",
   "metadata": {},
   "source": [
    "If we were instead interested in the most common number of bedrooms, rather than the average, we could use the `lag_categorical` function, which will consider each value as a category and return the most common value in each neighbor set:"
   ]
  },
  {
   "cell_type": "code",
   "execution_count": null,
   "id": "forbidden-function",
   "metadata": {},
   "outputs": [],
   "source": [
    "local_mode = weights.lag_categorical(\n",
    "    d500_w, airbnbs_albers[[\"bedrooms\"]].values\n",
    ")"
   ]
  },
  {
   "cell_type": "markdown",
   "id": "tested-nutrition",
   "metadata": {},
   "source": [
    "Since we are now treating the number of bedrooms as a discrete feature, we can use a `crosstab` from `pandas` to examine the relationship between a listing and the typical size of listings nearby:"
   ]
  },
  {
   "cell_type": "code",
   "execution_count": null,
   "id": "disciplinary-poker",
   "metadata": {
    "lines_to_next_cell": 0
   },
   "outputs": [],
   "source": [
    "crosstab = pandas.crosstab(\n",
    "    airbnbs_albers.bedrooms, local_mode.flatten()\n",
    ")\n",
    "crosstab.columns.name = \"nearby\"\n",
    "crosstab"
   ]
  },
  {
   "cell_type": "code",
   "execution_count": null,
   "id": "13f9a20c",
   "metadata": {
    "tags": [
     "remove-cell"
    ]
   },
   "outputs": [],
   "source": [
    "glue('most_common', crosstab.values.max())"
   ]
  },
  {
   "cell_type": "markdown",
   "id": "expressed-sweet",
   "metadata": {},
   "source": [
    "From the table we can see the most common case (N={glue:}`most_common`) is properties with one bedroom surrounded mostly by other properties with also only one bedroom. Similarly we also find out, for example, that the two properties with ten bedrooms in the dataset are surrounded by properties with mostly two bedrooms. The remaining cells in the table can be interpreted in a similar fashion.\n",
    "\n",
    "If more complicated statistics are required, it can help to reexpress the construction of summary statistics as a *reduction* of the *adjacency list* representation of our weights, as done in [Chapter 4](04_spatial_weights). To recap, the *adjacency list* is a `pandas.DataFrame` where each row contains a single link in our graph. It contains the identifier for some `focal` observation, the identifier for some `neighbor` observation, and a value for the `weight` of the link that connects the `focal` and `neighbor`:"
   ]
  },
  {
   "cell_type": "code",
   "execution_count": null,
   "id": "soviet-tunisia",
   "metadata": {},
   "outputs": [],
   "source": [
    "adjlist = d500_w.to_adjlist()"
   ]
  },
  {
   "cell_type": "code",
   "execution_count": null,
   "id": "mineral-alarm",
   "metadata": {},
   "outputs": [],
   "source": [
    "adjlist.head()"
   ]
  },
  {
   "cell_type": "markdown",
   "id": "imported-corrections",
   "metadata": {},
   "source": [
    "If we had the values for each for the neighbors in this adjacency list table, then we could use a `groupby()` to summarize the values of observations connected to a given focal observation. This merge can be done directly with the original data, linking the `neighbor` key in the adjacency list back to that observation in our source table: "
   ]
  },
  {
   "cell_type": "code",
   "execution_count": null,
   "id": "elder-engineer",
   "metadata": {},
   "outputs": [],
   "source": [
    "adjlist = adjlist.merge(\n",
    "    airbnbs_albers[[\"bedrooms\"]],\n",
    "    left_on=\"neighbor\",\n",
    "    right_index=True,\n",
    "    how=\"left\",\n",
    ")\n",
    "adjlist.head()"
   ]
  },
  {
   "cell_type": "markdown",
   "id": "simplified-option",
   "metadata": {},
   "source": [
    "Now, we need only to group the adjacency list by the focal observation and summarize the `bedrooms` column to obtain the median number of bedrooms for each `focal` observation. "
   ]
  },
  {
   "cell_type": "code",
   "execution_count": null,
   "id": "genuine-speaker",
   "metadata": {},
   "outputs": [],
   "source": [
    "adjlist.groupby(\"focal\").bedrooms.median()"
   ]
  },
  {
   "cell_type": "markdown",
   "id": "incredible-midwest",
   "metadata": {},
   "source": [
    "Since the mean and/or mode are the most commonly used measures of central tendency, the `lag_spatial` and `lag_categorical` functions cover many of the required uses in practice. \n",
    "\n",
    "#### \"Ring\" buffer features\n",
    "\n",
    "Sometimes, analysts might want to use multiple \"bands\" of buffer features. This requires that we build summaries of the observations that fall *only within* a given range of distances, such as the typical size of houses that are further than 500 meters, but still within one kilometer. This kind of \"ring buffer\", or annulus, is a common request in spatial analysis, and can be done in substantially the same way as before by increasing the `threshold` in a `DistanceBand` weight.  \n",
    "\n",
    "We can use our 500 meters weights from before to build the average again:"
   ]
  },
  {
   "cell_type": "code",
   "execution_count": null,
   "id": "silent-azerbaijan",
   "metadata": {},
   "outputs": [],
   "source": [
    "average_within_500 = weights.lag_spatial(\n",
    "    d500_w, airbnbs_albers[[\"bedrooms\"]].values\n",
    ")"
   ]
  },
  {
   "cell_type": "markdown",
   "id": "hourly-search",
   "metadata": {},
   "source": [
    "Then, we need to build the graph of Airbnbs that fall *between* 500 meters and 1 kilometer from one another. To start, we build the `DistanceBand` graph of all listings closer than 1 kilometer:"
   ]
  },
  {
   "cell_type": "code",
   "execution_count": null,
   "id": "growing-upset",
   "metadata": {},
   "outputs": [],
   "source": [
    "d1k_w = weights.DistanceBand.from_dataframe(\n",
    "    airbnbs_albers, threshold=1000, silence_warnings=True\n",
    ")"
   ]
  },
  {
   "cell_type": "markdown",
   "id": "dressed-layer",
   "metadata": {},
   "source": [
    "Then, using the `weights.set_operations` module, we can express set-theoretic relationships between graphs. Here, we need to *remove* the links in our 1 kilometer graph that are *also* links in the 500 meters graph. To do this, we need `w_difference(d1k_w, d500_w)`, the difference between the one kilometer graph and the 500 meters graph: "
   ]
  },
  {
   "cell_type": "code",
   "execution_count": null,
   "id": "bigger-gibraltar",
   "metadata": {},
   "outputs": [],
   "source": [
    "d1k_exclusive = weights.set_operations.w_difference(\n",
    "    d1k_w, d500_w, constrained=False\n",
    ")"
   ]
  },
  {
   "cell_type": "markdown",
   "id": "reserved-writer",
   "metadata": {},
   "source": [
    "Then, we can compute the average size of listings between 500 meters and 1 kilometer in the same manner as before using our `d1k_exclusive` graph, which now omits all edges shorter than 500 meters. "
   ]
  },
  {
   "cell_type": "code",
   "execution_count": null,
   "id": "normal-aquarium",
   "metadata": {},
   "outputs": [],
   "source": [
    "d1k_exclusive.transform = \"r\"\n",
    "average_500m_to_1k = weights.lag_spatial(\n",
    "    d1k_exclusive, airbnbs_albers[[\"bedrooms\"]].values\n",
    ")"
   ]
  },
  {
   "cell_type": "markdown",
   "id": "exotic-pepper",
   "metadata": {},
   "source": [
    "Thus, as we can see in Figure 15 (generated by the code below), the two features contain distinct, but related, information, and both may be valuable in their own right when attempting to predict outcomes of interest. "
   ]
  },
  {
   "cell_type": "code",
   "execution_count": null,
   "id": "australian-approach",
   "metadata": {
    "caption": "Relationship between the size of Airbnbs between successive distance buffers around an Airbnb.",
    "tags": []
   },
   "outputs": [],
   "source": [
    "# Plot scatter\n",
    "plt.scatter(\n",
    "    average_within_500, average_500m_to_1k, color=\"k\", marker=\".\"\n",
    ")\n",
    "# Rename horizontal axis\n",
    "plt.xlabel(\"Average size within 500 meters\")\n",
    "# Rename vertical axis\n",
    "plt.ylabel(\"Average size\\n beyond 500m but within 1km\")\n",
    "# Plot line of 45 degrees\n",
    "plt.plot(\n",
    "    [0, 5],\n",
    "    [0, 5],\n",
    "    color=\"orangered\",\n",
    "    linestyle=\":\",\n",
    "    linewidth=2,\n",
    "    label=\"1 to 1\",\n",
    ")\n",
    "# Add legend\n",
    "plt.legend();"
   ]
  },
  {
   "cell_type": "markdown",
   "id": "beautiful-greece",
   "metadata": {},
   "source": [
    "As the plot shows, although the relationship between both is positive, there is quite a bit of variation and departure from the (red) line of equality. These represent cases with either larger (above the line) or smaller (below) average size in the 500 meters to 1 kilometer ring than in the 500 meters buffer."
   ]
  },
  {
   "cell_type": "markdown",
   "id": "growing-round",
   "metadata": {},
   "source": [
    "### Clustering as feature engineering"
   ]
  },
  {
   "cell_type": "markdown",
   "id": "electric-aurora",
   "metadata": {},
   "source": [
    "One unique way to use spatial or features information *within* your data as a feature in your existing models is to use *clustering*, as we saw in Chapters [8](08_point_pattern_analysis) and [10](10_clustering_and_regionalization), respectively. This can provide an indication of whether an observation exists in a given \"place\" geographically, or if an observation is a specific \"kind\" of observation. Data reduction of many variates into a derived categorical feature can be useful in training models. This is even more useful when the *spatial location* of a given observation indicates a useful characteristic about the kind of observation that may be found at that location. \n",
    "\n",
    "While sometimes we might prefer to introduce space and (co-)location through our model (as we did in [Chapter 11](11_regression)), others we can instead use (spatial) cluster labels themselves as features. For example, to cluster the listings based on their location, we can use hierarchical DBSCAN {cite}`campello2013density`, an improved variant of the traditional DBSCAN algorithm used in [Chapter 8](08_point_pattern_analysis). We import it through its own package {cite}`mcinnes2017hdbscan`:"
   ]
  },
  {
   "cell_type": "code",
   "execution_count": null,
   "id": "large-anthropology",
   "metadata": {},
   "outputs": [],
   "source": [
    "from hdbscan import HDBSCAN"
   ]
  },
  {
   "cell_type": "markdown",
   "id": "fundamental-cargo",
   "metadata": {},
   "source": [
    "To apply to our Airbnb data, we need the coordinates as a two-dimensional array of XY pairs:"
   ]
  },
  {
   "cell_type": "code",
   "execution_count": null,
   "id": "worst-acrylic",
   "metadata": {},
   "outputs": [],
   "source": [
    "coordinates = numpy.column_stack(\n",
    "    (airbnbs_albers.geometry.x, airbnbs_albers.geometry.y)\n",
    ")"
   ]
  },
  {
   "cell_type": "markdown",
   "id": "working-distribution",
   "metadata": {},
   "source": [
    "With a little tuning, we can decide on an effective parameterization. The main advantage of HDBSCAN over the traditional approach is that it reduces the number of tuning parameters from two to one: we only need to set the minimum number of observations we want to define a cluster. Here, we look for relatively large clusters of Airbnbs, those with about 25 listings or more, fit them to our array of coordinates, and store the cluster labels identified:"
   ]
  },
  {
   "cell_type": "code",
   "execution_count": null,
   "id": "adopted-exposure",
   "metadata": {},
   "outputs": [],
   "source": [
    "labels = HDBSCAN(min_cluster_size=25).fit(coordinates).labels_"
   ]
  },
  {
   "cell_type": "markdown",
   "id": "casual-ready",
   "metadata": {},
   "source": [
    "The spatial distribution of these clusters will give us a sense of areas of San Diego with relatively high density of the observations. But the `labels` object does not contain clusters, only observation memberships. To derive those clusters geographically, we construct the convex hull of the observations in each detected cluster, creating thus a polygon that delimits every observation that is part of the cluster:"
   ]
  },
  {
   "cell_type": "code",
   "execution_count": null,
   "id": "institutional-particular",
   "metadata": {},
   "outputs": [],
   "source": [
    "hulls = airbnbs_albers[[\"geometry\"]].dissolve(by=labels).convex_hull"
   ]
  },
  {
   "cell_type": "markdown",
   "id": "julian-contents",
   "metadata": {},
   "source": [
    "The polygons in `hulls` (and displayed in Figure 16) provide an intermediate layer between the granularity of each individual location and the global scale of San Diego as a geographical unit. Since people tend to make locational decisions hierarchically (e.g., first they select *San Diego* as a destination, then they pick a particular *part* of San Diego, then choose a house within the area), this approach might give us reasonable insight into enclaves of Airbnb properties:"
   ]
  },
  {
   "cell_type": "code",
   "execution_count": null,
   "id": "incredible-bibliography",
   "metadata": {
    "caption": "Clusters in the locations of Airbnbs within San Diego.",
    "tags": []
   },
   "outputs": [],
   "source": [
    "# Set up figure and axis\n",
    "f, ax = plt.subplots(1, figsize=(9, 9))\n",
    "# Plot individual Airbnb locations\n",
    "airbnbs_albers.plot(\n",
    "    # Color by cluster label\n",
    "    column=labels,\n",
    "    # Consider label as categorical\n",
    "    categorical=True,\n",
    "    # Add 50% of transparency\n",
    "    alpha=0.5,\n",
    "    # Include legend\n",
    "    legend=True,\n",
    "    # Draw on axis `ax`\n",
    "    ax=ax,\n",
    "    # Use circle as marker\n",
    "    marker=\".\",\n",
    "    # Position legend outside the map\n",
    "    legend_kwds={\"bbox_to_anchor\": (1, 1)},\n",
    ")\n",
    "# Plot convex hull polygons for each cluster label\n",
    "# except that for -1 (observations classified as noise)\n",
    "hulls[hulls.index != -1].boundary.plot(color=\"k\", ax=ax)\n",
    "# Add basemap\n",
    "contextily.add_basemap(\n",
    "    ax,\n",
    "    crs=airbnbs_albers.crs.to_string(),\n",
    "    source=contextily.providers.CartoDB.VoyagerNoLabels,\n",
    ")\n",
    "# Remove axes\n",
    "ax.set_axis_off();"
   ]
  },
  {
   "cell_type": "markdown",
   "id": "disciplinary-interstate",
   "metadata": {},
   "source": [
    "Note how the hierarchical nature of HDBSCAN, which picks density thresholds _locally_ is at work in the map, where some of the clusters (e.g., orange ones in the north) display lower density than parts of the center which are _not_ part of any cluster. These results also capture some information about the price of a listing. Figure 17 (generated with the code below) shows this by plotting the distribution of prices across the detected clusters."
   ]
  },
  {
   "cell_type": "code",
   "execution_count": null,
   "id": "stuck-earth",
   "metadata": {
    "caption": "Boxplot of price by detected 'competition cluster.' The clusters vary significantly in prices and could be used to train a model.",
    "tags": []
   },
   "outputs": [],
   "source": [
    "# Set up figure\n",
    "f = plt.figure(figsize=(8, 3))\n",
    "# Add boxplots of price by HDBSCAN cluster\n",
    "ax = airbnbs_albers.assign(labels=labels).boxplot(\n",
    "    # Plot distribution of 'price'\n",
    "    \"price\",\n",
    "    # Group by cluster label, generating one boxplot/cluster\n",
    "    by='labels',\n",
    "    # Do not display individual outlier observations\n",
    "    flierprops=dict(marker=None),\n",
    "    # Draw visualization on the current axis (inside `f`)\n",
    "    ax=plt.gca(),\n",
    ")\n",
    "# Set label for horizontal axis\n",
    "ax.set_xlabel(\"HDBSCAN cluster\")\n",
    "# Set labels for vertical axis\n",
    "ax.set_ylabel(\"price ($)\")\n",
    "# Remove default figure title\n",
    "plt.gcf().suptitle(None)\n",
    "# Remove default axis title\n",
    "ax.set_title(None)\n",
    "# Re-adjust vertical value range for easier legibility\n",
    "ax.set_ylim(0, 1250);"
   ]
  },
  {
   "cell_type": "markdown",
   "id": "aware-trail",
   "metadata": {},
   "source": [
    "If we want to capture the variation picked up by membership to these clusters in a regression model, we could use these labels as the basis for spatial fixed effects, for example, as we saw in [Chapter 11](11_regression)."
   ]
  },
  {
   "cell_type": "markdown",
   "id": "planned-alignment",
   "metadata": {},
   "source": [
    "## Conclusion"
   ]
  },
  {
   "cell_type": "markdown",
   "id": "extended-double",
   "metadata": {},
   "source": [
    "Feature engineering is a powerful way to enrich your data and make the most out of them. It is often within reach whether you are able to mix in auxilliary data or not. At a minimum, it only requires that new variables are constructed from your existing data; however, if you have access to more data, spatial feature engineering provides the *ultimate linkage key*, a flexible and powerful tool with which you can unlock the value held in many *other* datasets that you may have access to even if they are not obviously connected to your own. \n",
    "\n",
    "We have structured all the approaches presented in this chapter along two main groups: those which allow you to augment a given dataset, which we have termed _map synthesis_; and those that enable connecting disparate datasets through space. In both cases, each operation involved in feature engineering, such as determining what the average value is in the area near each observation or identifying whether observations exist as part of a \"cluster\", are relatively simple operations. As building blocks that may be combined with each other, they build large, rich, and useful datasets that can be used directly in your existing methods of analysis. \n",
    "\n",
    "Beyond feature engineering, statistical techniques we discuss in this book (particularly in Chapters [10](10_clustering_and_regionalization) and [11](11_regression)) can leverage spatial structure *directly* during learning/inference. These techniques allow you to embed space in non-spatial models to make them \"geography aware\". Furthermore, the techniques in this chapter (and the methods that extend upon them) are immediately useful for most practicing data scientists, and they can be integrated into nearly any analytical method or approach. "
   ]
  },
  {
   "cell_type": "markdown",
   "id": "saved-advance",
   "metadata": {},
   "source": [
    "## Questions\n",
    "\n",
    "1. Thinking of your own research, provide an example where map matching would\n",
    "   be a useful spatial feature engineering approach? How about an example where\n",
    "   map synthesis would be useful for your research?\n",
    "2. In the [Counting *nearby* features](#counting-nearby-features) example early in the chapter, there\n",
    "   is a potential issue with under-counting the number of nearby bars and\n",
    "   restaurants for certain Airbnbs in the dataset. Which Airbnbs are subject to\n",
    "   neighbor under-counts and why?\n",
    "3. How would you correct the under-count in the previous question?\n",
    "4. Dasymetric mapping may introduce spurious spatial autocorrelation (see\n",
    "   Chapters [6](06_spatial_autocorrelation) and [7](07_local_autocorrelation)) through\n",
    "   the interpolation process. How does this occur and why is it important to acknowledge?\n",
    "5. From the previous spatial regression chapter, is the SLX model a map matching or a map synthesis technique?\n",
    "6. Feature engineering can be used in many different applied contexts. When might feature engineering actually *not* improve a model? "
   ]
  },
  {
   "cell_type": "markdown",
   "id": "signal-above",
   "metadata": {},
   "source": [
    "## Next steps\n",
    "\n",
    "For more information on machine learning methods, it is difficult to beat *Introduction to Statistical Learning* by: \n",
    "\n",
    "James, Gareth, Daniela Witten, Trevor Hastie, and Robert Tibshirani. 2021. *Introduction to Statistical Learning* (2nd Edition). Wiley: New York. \n",
    "\n",
    "In addition, there are many geospatial relationships that can be leveraged to merge datasets together. These *spatial join* techniques often require quite a bit of background understanding in *geocomputation*, computation that focuses on the basic/fundamental geometric operations and relationships between geographic objects. However, simple introductions are offered by our partner book: \n",
    "\n",
    "Tenkanen, Henrikki, Vuokko Heikinheimo, and David Whipp. 2023. *Python for Geographic Data Analysis*. CRC Press: Boca Raton, FL. https://pythongis.org\n",
    "\n",
    "Finally, references on geographic interpolation methods are sometimes hard to come by, but a good and readable introduction to the domain is offered by:\n",
    "\n",
    "Comber, Alexis and Wen Zeng. 2019. \"Spatial Interpolation using areal features: A review of methods and opportunities using new forms of data with coded illustrations.\" *Geography Compass* 13.  https://doi.org/10.1111/gec3.12465"
   ]
  },
  {
   "cell_type": "code",
   "execution_count": null,
   "id": "f9bbc1fe-a811-45da-9ee3-1acc554c9a56",
   "metadata": {},
   "outputs": [],
   "source": []
  }
 ],
 "metadata": {
  "jupytext": {
   "formats": "ipynb,md"
  },
  "kernelspec": {
   "display_name": "Python 3 (ipykernel)",
   "language": "python",
   "name": "python3"
  },
  "language_info": {
   "codemirror_mode": {
    "name": "ipython",
    "version": 3
   },
   "file_extension": ".py",
   "mimetype": "text/x-python",
   "name": "python",
   "nbconvert_exporter": "python",
   "pygments_lexer": "ipython3",
   "version": "3.11.9"
  }
 },
 "nbformat": 4,
 "nbformat_minor": 5
}
